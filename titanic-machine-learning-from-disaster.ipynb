{
 "cells": [
  {
   "cell_type": "code",
   "execution_count": 1,
   "id": "350174f9",
   "metadata": {
    "execution": {
     "iopub.execute_input": "2023-03-12T16:20:59.043706Z",
     "iopub.status.busy": "2023-03-12T16:20:59.042865Z",
     "iopub.status.idle": "2023-03-12T16:20:59.049356Z",
     "shell.execute_reply": "2023-03-12T16:20:59.048345Z"
    },
    "papermill": {
     "duration": 0.016747,
     "end_time": "2023-03-12T16:20:59.052837",
     "exception": false,
     "start_time": "2023-03-12T16:20:59.036090",
     "status": "completed"
    },
    "tags": []
   },
   "outputs": [],
   "source": [
    "# dd"
   ]
  },
  {
   "cell_type": "code",
   "execution_count": 2,
   "id": "6d4c8c3c",
   "metadata": {
    "_cell_guid": "b1076dfc-b9ad-4769-8c92-a6c4dae69d19",
    "_uuid": "8f2839f25d086af736a60e9eeb907d3b93b6e0e5",
    "execution": {
     "iopub.execute_input": "2023-03-12T16:20:59.064677Z",
     "iopub.status.busy": "2023-03-12T16:20:59.064056Z",
     "iopub.status.idle": "2023-03-12T16:21:00.323597Z",
     "shell.execute_reply": "2023-03-12T16:21:00.322537Z"
    },
    "papermill": {
     "duration": 1.267148,
     "end_time": "2023-03-12T16:21:00.326300",
     "exception": false,
     "start_time": "2023-03-12T16:20:59.059152",
     "status": "completed"
    },
    "tags": []
   },
   "outputs": [
    {
     "name": "stdout",
     "output_type": "stream",
     "text": [
      "/kaggle/input/titanic/train.csv\n",
      "/kaggle/input/titanic/test.csv\n",
      "/kaggle/input/titanic/gender_submission.csv\n"
     ]
    }
   ],
   "source": [
    "# This Python 3 environment comes with many helpful analytics libraries installed\n",
    "# It is defined by the kaggle/python Docker image: https://github.com/kaggle/docker-python\n",
    "# For example, here's several helpful packages to load\n",
    "\n",
    "import numpy as np # linear algebra\n",
    "import pandas as pd # data processing, CSV file I/O (e.g. pd.read_csv)\n",
    "import sklearn as sk\n",
    "import math\n",
    "from sklearn.model_selection import train_test_split\n",
    "\n",
    "# Input data files are available in the read-only \"../input/\" directory\n",
    "# For example, running this (by clicking run or pressing Shift+Enter) will list all files under the input directory\n",
    "\n",
    "import os\n",
    "for dirname, _, filenames in os.walk('/kaggle/input'):\n",
    "    for filename in filenames:\n",
    "        print(os.path.join(dirname, filename))\n",
    "\n",
    "# You can write up to 20GB to the current directory (/kaggle/working/) that gets preserved as output when you create a version using \"Save & Run All\" \n",
    "# You can also write temporary files to /kaggle/temp/, but they won't be saved outside of the current session"
   ]
  },
  {
   "cell_type": "code",
   "execution_count": 3,
   "id": "a3829224",
   "metadata": {
    "execution": {
     "iopub.execute_input": "2023-03-12T16:21:00.337463Z",
     "iopub.status.busy": "2023-03-12T16:21:00.336676Z",
     "iopub.status.idle": "2023-03-12T16:21:00.342104Z",
     "shell.execute_reply": "2023-03-12T16:21:00.341174Z"
    },
    "papermill": {
     "duration": 0.012619,
     "end_time": "2023-03-12T16:21:00.344350",
     "exception": false,
     "start_time": "2023-03-12T16:21:00.331731",
     "status": "completed"
    },
    "tags": []
   },
   "outputs": [],
   "source": [
    "CONFIG = {\n",
    "    'path_train' : '/kaggle/input/titanic/train.csv',\n",
    "    'path_test' : '/kaggle/input/titanic/test.csv',\n",
    "    'path_submission' : '/kaggle/input/titanic/gender_submission.csv',\n",
    "}"
   ]
  },
  {
   "cell_type": "code",
   "execution_count": 4,
   "id": "b5213c0a",
   "metadata": {
    "execution": {
     "iopub.execute_input": "2023-03-12T16:21:00.353804Z",
     "iopub.status.busy": "2023-03-12T16:21:00.352914Z",
     "iopub.status.idle": "2023-03-12T16:21:00.411514Z",
     "shell.execute_reply": "2023-03-12T16:21:00.410453Z"
    },
    "papermill": {
     "duration": 0.065715,
     "end_time": "2023-03-12T16:21:00.413856",
     "exception": false,
     "start_time": "2023-03-12T16:21:00.348141",
     "status": "completed"
    },
    "tags": []
   },
   "outputs": [
    {
     "data": {
      "text/html": [
       "<div>\n",
       "<style scoped>\n",
       "    .dataframe tbody tr th:only-of-type {\n",
       "        vertical-align: middle;\n",
       "    }\n",
       "\n",
       "    .dataframe tbody tr th {\n",
       "        vertical-align: top;\n",
       "    }\n",
       "\n",
       "    .dataframe thead th {\n",
       "        text-align: right;\n",
       "    }\n",
       "</style>\n",
       "<table border=\"1\" class=\"dataframe\">\n",
       "  <thead>\n",
       "    <tr style=\"text-align: right;\">\n",
       "      <th></th>\n",
       "      <th>PassengerId</th>\n",
       "      <th>Survived</th>\n",
       "      <th>Pclass</th>\n",
       "      <th>Name</th>\n",
       "      <th>Sex</th>\n",
       "      <th>Age</th>\n",
       "      <th>SibSp</th>\n",
       "      <th>Parch</th>\n",
       "      <th>Ticket</th>\n",
       "      <th>Fare</th>\n",
       "      <th>Cabin</th>\n",
       "      <th>Embarked</th>\n",
       "    </tr>\n",
       "  </thead>\n",
       "  <tbody>\n",
       "    <tr>\n",
       "      <th>0</th>\n",
       "      <td>1</td>\n",
       "      <td>0</td>\n",
       "      <td>3</td>\n",
       "      <td>Braund, Mr. Owen Harris</td>\n",
       "      <td>male</td>\n",
       "      <td>22.0</td>\n",
       "      <td>1</td>\n",
       "      <td>0</td>\n",
       "      <td>A/5 21171</td>\n",
       "      <td>7.2500</td>\n",
       "      <td>NaN</td>\n",
       "      <td>S</td>\n",
       "    </tr>\n",
       "    <tr>\n",
       "      <th>1</th>\n",
       "      <td>2</td>\n",
       "      <td>1</td>\n",
       "      <td>1</td>\n",
       "      <td>Cumings, Mrs. John Bradley (Florence Briggs Th...</td>\n",
       "      <td>female</td>\n",
       "      <td>38.0</td>\n",
       "      <td>1</td>\n",
       "      <td>0</td>\n",
       "      <td>PC 17599</td>\n",
       "      <td>71.2833</td>\n",
       "      <td>C85</td>\n",
       "      <td>C</td>\n",
       "    </tr>\n",
       "    <tr>\n",
       "      <th>2</th>\n",
       "      <td>3</td>\n",
       "      <td>1</td>\n",
       "      <td>3</td>\n",
       "      <td>Heikkinen, Miss. Laina</td>\n",
       "      <td>female</td>\n",
       "      <td>26.0</td>\n",
       "      <td>0</td>\n",
       "      <td>0</td>\n",
       "      <td>STON/O2. 3101282</td>\n",
       "      <td>7.9250</td>\n",
       "      <td>NaN</td>\n",
       "      <td>S</td>\n",
       "    </tr>\n",
       "    <tr>\n",
       "      <th>3</th>\n",
       "      <td>4</td>\n",
       "      <td>1</td>\n",
       "      <td>1</td>\n",
       "      <td>Futrelle, Mrs. Jacques Heath (Lily May Peel)</td>\n",
       "      <td>female</td>\n",
       "      <td>35.0</td>\n",
       "      <td>1</td>\n",
       "      <td>0</td>\n",
       "      <td>113803</td>\n",
       "      <td>53.1000</td>\n",
       "      <td>C123</td>\n",
       "      <td>S</td>\n",
       "    </tr>\n",
       "    <tr>\n",
       "      <th>4</th>\n",
       "      <td>5</td>\n",
       "      <td>0</td>\n",
       "      <td>3</td>\n",
       "      <td>Allen, Mr. William Henry</td>\n",
       "      <td>male</td>\n",
       "      <td>35.0</td>\n",
       "      <td>0</td>\n",
       "      <td>0</td>\n",
       "      <td>373450</td>\n",
       "      <td>8.0500</td>\n",
       "      <td>NaN</td>\n",
       "      <td>S</td>\n",
       "    </tr>\n",
       "  </tbody>\n",
       "</table>\n",
       "</div>"
      ],
      "text/plain": [
       "   PassengerId  Survived  Pclass  \\\n",
       "0            1         0       3   \n",
       "1            2         1       1   \n",
       "2            3         1       3   \n",
       "3            4         1       1   \n",
       "4            5         0       3   \n",
       "\n",
       "                                                Name     Sex   Age  SibSp  \\\n",
       "0                            Braund, Mr. Owen Harris    male  22.0      1   \n",
       "1  Cumings, Mrs. John Bradley (Florence Briggs Th...  female  38.0      1   \n",
       "2                             Heikkinen, Miss. Laina  female  26.0      0   \n",
       "3       Futrelle, Mrs. Jacques Heath (Lily May Peel)  female  35.0      1   \n",
       "4                           Allen, Mr. William Henry    male  35.0      0   \n",
       "\n",
       "   Parch            Ticket     Fare Cabin Embarked  \n",
       "0      0         A/5 21171   7.2500   NaN        S  \n",
       "1      0          PC 17599  71.2833   C85        C  \n",
       "2      0  STON/O2. 3101282   7.9250   NaN        S  \n",
       "3      0            113803  53.1000  C123        S  \n",
       "4      0            373450   8.0500   NaN        S  "
      ]
     },
     "execution_count": 4,
     "metadata": {},
     "output_type": "execute_result"
    }
   ],
   "source": [
    "df_train_raw = pd.read_csv(CONFIG['path_train'])\n",
    "df_test_raw = pd.read_csv(CONFIG['path_test'])\n",
    "df_submission_raw = pd.read_csv(CONFIG['path_submission'])\n",
    "\n",
    "df_train_raw.head()"
   ]
  },
  {
   "cell_type": "code",
   "execution_count": 5,
   "id": "ced345a8",
   "metadata": {
    "execution": {
     "iopub.execute_input": "2023-03-12T16:21:00.423546Z",
     "iopub.status.busy": "2023-03-12T16:21:00.423088Z",
     "iopub.status.idle": "2023-03-12T16:21:00.431210Z",
     "shell.execute_reply": "2023-03-12T16:21:00.430194Z"
    },
    "papermill": {
     "duration": 0.015238,
     "end_time": "2023-03-12T16:21:00.433226",
     "exception": false,
     "start_time": "2023-03-12T16:21:00.417988",
     "status": "completed"
    },
    "tags": []
   },
   "outputs": [],
   "source": [
    "def is_str_list(values):\n",
    "    return any([type(v) is str for v in values])\n",
    "def encode(df:pd.DataFrame, feature:str, keys):\n",
    "    df[feature] = [keys.index(v) if type(v) is str else v for v in df[feature].values]\n",
    "def refine_df(df:pd.DataFrame, features, na_value:int=0):\n",
    "    df = df[features].fillna(na_value)\n",
    "    for feature in features:\n",
    "        keys = list(set(df[feature].values))\n",
    "        if not is_str_list(keys): continue\n",
    "        if na_value in keys: keys.remove(na_value)\n",
    "        encode(df, feature, keys)\n",
    "        print(f'{feature}{keys} has been encoded.')\n",
    "    return df"
   ]
  },
  {
   "cell_type": "code",
   "execution_count": 6,
   "id": "271074ca",
   "metadata": {
    "execution": {
     "iopub.execute_input": "2023-03-12T16:21:00.442890Z",
     "iopub.status.busy": "2023-03-12T16:21:00.442281Z",
     "iopub.status.idle": "2023-03-12T16:21:00.448721Z",
     "shell.execute_reply": "2023-03-12T16:21:00.447941Z"
    },
    "papermill": {
     "duration": 0.013499,
     "end_time": "2023-03-12T16:21:00.450681",
     "exception": false,
     "start_time": "2023-03-12T16:21:00.437182",
     "status": "completed"
    },
    "tags": []
   },
   "outputs": [],
   "source": [
    "features = [\n",
    "'Pclass',\n",
    "'Sex',\n",
    "'Age',\n",
    "'SibSp',\n",
    "'Parch',\n",
    "'Fare',\n",
    "'Embarked',\n",
    "]"
   ]
  },
  {
   "cell_type": "code",
   "execution_count": 7,
   "id": "436bf6d9",
   "metadata": {
    "execution": {
     "iopub.execute_input": "2023-03-12T16:21:00.460507Z",
     "iopub.status.busy": "2023-03-12T16:21:00.459583Z",
     "iopub.status.idle": "2023-03-12T16:21:00.478298Z",
     "shell.execute_reply": "2023-03-12T16:21:00.476980Z"
    },
    "papermill": {
     "duration": 0.026286,
     "end_time": "2023-03-12T16:21:00.480838",
     "exception": false,
     "start_time": "2023-03-12T16:21:00.454552",
     "status": "completed"
    },
    "tags": []
   },
   "outputs": [
    {
     "name": "stdout",
     "output_type": "stream",
     "text": [
      "Sex['male', 'female'] has been encoded.\n",
      "Embarked['C', 'Q', 'S'] has been encoded.\n"
     ]
    }
   ],
   "source": [
    "X = refine_df(df_train_raw, features)\n",
    "y = df_train_raw['Survived']"
   ]
  },
  {
   "cell_type": "code",
   "execution_count": 8,
   "id": "d7d1543b",
   "metadata": {
    "execution": {
     "iopub.execute_input": "2023-03-12T16:21:00.490496Z",
     "iopub.status.busy": "2023-03-12T16:21:00.490069Z",
     "iopub.status.idle": "2023-03-12T16:21:00.501650Z",
     "shell.execute_reply": "2023-03-12T16:21:00.500163Z"
    },
    "papermill": {
     "duration": 0.019029,
     "end_time": "2023-03-12T16:21:00.503800",
     "exception": false,
     "start_time": "2023-03-12T16:21:00.484771",
     "status": "completed"
    },
    "tags": []
   },
   "outputs": [
    {
     "name": "stdout",
     "output_type": "stream",
     "text": [
      "Sex['male', 'female'] has been encoded.\n",
      "Embarked['C', 'Q', 'S'] has been encoded.\n"
     ]
    }
   ],
   "source": [
    "train_X, val_X, train_y, val_y = train_test_split(X, y, random_state = 21)\n",
    "test_X = refine_df(df_test_raw, features)"
   ]
  },
  {
   "cell_type": "code",
   "execution_count": 9,
   "id": "0d023e63",
   "metadata": {
    "execution": {
     "iopub.execute_input": "2023-03-12T16:21:00.513275Z",
     "iopub.status.busy": "2023-03-12T16:21:00.512860Z",
     "iopub.status.idle": "2023-03-12T16:21:01.199572Z",
     "shell.execute_reply": "2023-03-12T16:21:01.198232Z"
    },
    "papermill": {
     "duration": 0.693994,
     "end_time": "2023-03-12T16:21:01.201809",
     "exception": false,
     "start_time": "2023-03-12T16:21:00.507815",
     "status": "completed"
    },
    "tags": []
   },
   "outputs": [
    {
     "name": "stdout",
     "output_type": "stream",
     "text": [
      "Train Score : 0.9745508982035929 / Valid Score : 0.8251121076233184\n"
     ]
    }
   ],
   "source": [
    "from xgboost import XGBClassifier\n",
    "from sklearn.ensemble import RandomForestClassifier\n",
    "model = XGBClassifier(random_state=21)#\n",
    "model.fit(train_X, train_y)\n",
    "# train_predictions = model.predict(train_X)\n",
    "# val_predictions = model.predict(val_X)\n",
    "\n",
    "train_score = model.score(train_X, train_y)\n",
    "val_score = model.score(val_X, val_y)\n",
    "print(f\"Train Score : {train_score} / Valid Score : {val_score}\")"
   ]
  },
  {
   "cell_type": "code",
   "execution_count": 10,
   "id": "d716e0a4",
   "metadata": {
    "execution": {
     "iopub.execute_input": "2023-03-12T16:21:01.213225Z",
     "iopub.status.busy": "2023-03-12T16:21:01.212723Z",
     "iopub.status.idle": "2023-03-12T16:21:01.231457Z",
     "shell.execute_reply": "2023-03-12T16:21:01.230615Z"
    },
    "papermill": {
     "duration": 0.027121,
     "end_time": "2023-03-12T16:21:01.233715",
     "exception": false,
     "start_time": "2023-03-12T16:21:01.206594",
     "status": "completed"
    },
    "tags": []
   },
   "outputs": [],
   "source": [
    "df_submission = pd.DataFrame(df_submission_raw.to_dict())\n",
    "df_submission['Survived'] = model.predict(test_X)\n",
    "df_submission.to_csv('submission.csv', index=False)"
   ]
  },
  {
   "cell_type": "code",
   "execution_count": null,
   "id": "7f7a1d6e",
   "metadata": {
    "papermill": {
     "duration": 0.004359,
     "end_time": "2023-03-12T16:21:01.242868",
     "exception": false,
     "start_time": "2023-03-12T16:21:01.238509",
     "status": "completed"
    },
    "tags": []
   },
   "outputs": [],
   "source": []
  }
 ],
 "metadata": {
  "kernelspec": {
   "display_name": "Python 3",
   "language": "python",
   "name": "python3"
  },
  "language_info": {
   "codemirror_mode": {
    "name": "ipython",
    "version": 3
   },
   "file_extension": ".py",
   "mimetype": "text/x-python",
   "name": "python",
   "nbconvert_exporter": "python",
   "pygments_lexer": "ipython3",
   "version": "3.7.12"
  },
  "papermill": {
   "default_parameters": {},
   "duration": 13.020905,
   "end_time": "2023-03-12T16:21:02.068641",
   "environment_variables": {},
   "exception": null,
   "input_path": "__notebook__.ipynb",
   "output_path": "__notebook__.ipynb",
   "parameters": {},
   "start_time": "2023-03-12T16:20:49.047736",
   "version": "2.3.4"
  }
 },
 "nbformat": 4,
 "nbformat_minor": 5
}
